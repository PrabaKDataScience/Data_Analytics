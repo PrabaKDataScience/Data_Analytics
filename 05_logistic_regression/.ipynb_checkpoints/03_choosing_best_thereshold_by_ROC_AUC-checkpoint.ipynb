{
 "cells": [
  {
   "cell_type": "code",
   "execution_count": 1,
   "id": "a023680e",
   "metadata": {},
   "outputs": [],
   "source": [
    "# Choosing a right threshold probablity value will help us to classify better \n",
    "import pandas as pd\n",
    "from sklearn.linear_model import LogisticRegression as LogReg\n",
    "from sklearn.model_selection import train_test_split as tts"
   ]
  },
  {
   "cell_type": "code",
   "execution_count": 18,
   "id": "abb1df7c",
   "metadata": {
    "scrolled": false
   },
   "outputs": [
    {
     "data": {
      "text/html": [
       "<div>\n",
       "<style scoped>\n",
       "    .dataframe tbody tr th:only-of-type {\n",
       "        vertical-align: middle;\n",
       "    }\n",
       "\n",
       "    .dataframe tbody tr th {\n",
       "        vertical-align: top;\n",
       "    }\n",
       "\n",
       "    .dataframe thead th {\n",
       "        text-align: right;\n",
       "    }\n",
       "</style>\n",
       "<table border=\"1\" class=\"dataframe\">\n",
       "  <thead>\n",
       "    <tr style=\"text-align: right;\">\n",
       "      <th></th>\n",
       "      <th>Customer</th>\n",
       "      <th>Spending</th>\n",
       "      <th>Card</th>\n",
       "      <th>Coupon</th>\n",
       "    </tr>\n",
       "  </thead>\n",
       "  <tbody>\n",
       "    <tr>\n",
       "      <th>0</th>\n",
       "      <td>1</td>\n",
       "      <td>2.291</td>\n",
       "      <td>1</td>\n",
       "      <td>0</td>\n",
       "    </tr>\n",
       "    <tr>\n",
       "      <th>1</th>\n",
       "      <td>2</td>\n",
       "      <td>3.215</td>\n",
       "      <td>1</td>\n",
       "      <td>0</td>\n",
       "    </tr>\n",
       "    <tr>\n",
       "      <th>2</th>\n",
       "      <td>3</td>\n",
       "      <td>2.135</td>\n",
       "      <td>1</td>\n",
       "      <td>0</td>\n",
       "    </tr>\n",
       "    <tr>\n",
       "      <th>3</th>\n",
       "      <td>4</td>\n",
       "      <td>3.924</td>\n",
       "      <td>0</td>\n",
       "      <td>0</td>\n",
       "    </tr>\n",
       "    <tr>\n",
       "      <th>4</th>\n",
       "      <td>5</td>\n",
       "      <td>2.528</td>\n",
       "      <td>1</td>\n",
       "      <td>0</td>\n",
       "    </tr>\n",
       "  </tbody>\n",
       "</table>\n",
       "</div>"
      ],
      "text/plain": [
       "   Customer  Spending  Card  Coupon\n",
       "0         1     2.291     1       0\n",
       "1         2     3.215     1       0\n",
       "2         3     2.135     1       0\n",
       "3         4     3.924     0       0\n",
       "4         5     2.528     1       0"
      ]
     },
     "execution_count": 18,
     "metadata": {},
     "output_type": "execute_result"
    }
   ],
   "source": [
    "data = pd.read_excel(r'D:\\ERA_ML\\IIT Roorkee\\Dataset\\week_8\\Week 8 (Important Data)-20220425T104320Z-001\\Week 8 (Important Data)\\Simmons.xls')\n",
    "data.head()"
   ]
  },
  {
   "cell_type": "code",
   "execution_count": 19,
   "id": "c8a6d962",
   "metadata": {
    "scrolled": false
   },
   "outputs": [
    {
     "data": {
      "text/html": [
       "<div>\n",
       "<style scoped>\n",
       "    .dataframe tbody tr th:only-of-type {\n",
       "        vertical-align: middle;\n",
       "    }\n",
       "\n",
       "    .dataframe tbody tr th {\n",
       "        vertical-align: top;\n",
       "    }\n",
       "\n",
       "    .dataframe thead th {\n",
       "        text-align: right;\n",
       "    }\n",
       "</style>\n",
       "<table border=\"1\" class=\"dataframe\">\n",
       "  <thead>\n",
       "    <tr style=\"text-align: right;\">\n",
       "      <th></th>\n",
       "      <th>Customer</th>\n",
       "      <th>Spending</th>\n",
       "      <th>Card</th>\n",
       "      <th>Coupon</th>\n",
       "    </tr>\n",
       "  </thead>\n",
       "  <tbody>\n",
       "    <tr>\n",
       "      <th>count</th>\n",
       "      <td>100.000000</td>\n",
       "      <td>100.000000</td>\n",
       "      <td>100.000000</td>\n",
       "      <td>100.000000</td>\n",
       "    </tr>\n",
       "    <tr>\n",
       "      <th>mean</th>\n",
       "      <td>50.500000</td>\n",
       "      <td>3.333790</td>\n",
       "      <td>0.500000</td>\n",
       "      <td>0.400000</td>\n",
       "    </tr>\n",
       "    <tr>\n",
       "      <th>std</th>\n",
       "      <td>29.011492</td>\n",
       "      <td>1.741298</td>\n",
       "      <td>0.502519</td>\n",
       "      <td>0.492366</td>\n",
       "    </tr>\n",
       "    <tr>\n",
       "      <th>min</th>\n",
       "      <td>1.000000</td>\n",
       "      <td>1.058000</td>\n",
       "      <td>0.000000</td>\n",
       "      <td>0.000000</td>\n",
       "    </tr>\n",
       "    <tr>\n",
       "      <th>25%</th>\n",
       "      <td>25.750000</td>\n",
       "      <td>2.059000</td>\n",
       "      <td>0.000000</td>\n",
       "      <td>0.000000</td>\n",
       "    </tr>\n",
       "    <tr>\n",
       "      <th>50%</th>\n",
       "      <td>50.500000</td>\n",
       "      <td>2.805500</td>\n",
       "      <td>0.500000</td>\n",
       "      <td>0.000000</td>\n",
       "    </tr>\n",
       "    <tr>\n",
       "      <th>75%</th>\n",
       "      <td>75.250000</td>\n",
       "      <td>4.468250</td>\n",
       "      <td>1.000000</td>\n",
       "      <td>1.000000</td>\n",
       "    </tr>\n",
       "    <tr>\n",
       "      <th>max</th>\n",
       "      <td>100.000000</td>\n",
       "      <td>7.076000</td>\n",
       "      <td>1.000000</td>\n",
       "      <td>1.000000</td>\n",
       "    </tr>\n",
       "  </tbody>\n",
       "</table>\n",
       "</div>"
      ],
      "text/plain": [
       "         Customer    Spending        Card      Coupon\n",
       "count  100.000000  100.000000  100.000000  100.000000\n",
       "mean    50.500000    3.333790    0.500000    0.400000\n",
       "std     29.011492    1.741298    0.502519    0.492366\n",
       "min      1.000000    1.058000    0.000000    0.000000\n",
       "25%     25.750000    2.059000    0.000000    0.000000\n",
       "50%     50.500000    2.805500    0.500000    0.000000\n",
       "75%     75.250000    4.468250    1.000000    1.000000\n",
       "max    100.000000    7.076000    1.000000    1.000000"
      ]
     },
     "execution_count": 19,
     "metadata": {},
     "output_type": "execute_result"
    }
   ],
   "source": [
    "data.describe() #it is used to get some statistical detail"
   ]
  },
  {
   "cell_type": "markdown",
   "id": "f737325b",
   "metadata": {},
   "source": [
    "Since card and coupon are nominal/categorical value mean std doesnt give a practical meaning. Dont refer for any statistics "
   ]
  },
  {
   "cell_type": "code",
   "execution_count": 20,
   "id": "e8797d0f",
   "metadata": {},
   "outputs": [
    {
     "data": {
      "text/plain": [
       "array([0, 1], dtype=int64)"
      ]
     },
     "execution_count": 20,
     "metadata": {},
     "output_type": "execute_result"
    }
   ],
   "source": [
    "data['Coupon'].unique() # It gives unique value in perticular column"
   ]
  },
  {
   "cell_type": "code",
   "execution_count": 21,
   "id": "22774447",
   "metadata": {
    "scrolled": true
   },
   "outputs": [
    {
     "data": {
      "text/plain": [
       "0    60\n",
       "1    40\n",
       "Name: Coupon, dtype: int64"
      ]
     },
     "execution_count": 21,
     "metadata": {},
     "output_type": "execute_result"
    }
   ],
   "source": [
    "data['Coupon'].value_counts()"
   ]
  },
  {
   "cell_type": "markdown",
   "id": "b010e202",
   "metadata": {},
   "source": [
    "In our sample, We find 60 persons have used the coupon whereas 40 has nor used "
   ]
  },
  {
   "cell_type": "code",
   "execution_count": 24,
   "id": "8ba3cda9",
   "metadata": {},
   "outputs": [
    {
     "data": {
      "text/plain": [
       "(75, 75, 25, 25)"
      ]
     },
     "execution_count": 24,
     "metadata": {},
     "output_type": "execute_result"
    }
   ],
   "source": [
    "x = data[['Card','Spending']]\n",
    "y = data['Coupon']\n",
    "x_train, x_test, y_train, y_test = tts(x, y, test_size=0.25, random_state = 42)\n",
    "len(x_train), len(y_train), len(x_test), len(y_test)"
   ]
  },
  {
   "cell_type": "markdown",
   "id": "97a17222",
   "metadata": {},
   "source": [
    "Out of 100 sample observations , 75 observations has been taken for training the model, and 25 for testing purpose"
   ]
  },
  {
   "cell_type": "code",
   "execution_count": 27,
   "id": "a3004f19",
   "metadata": {},
   "outputs": [
    {
     "data": {
      "text/plain": [
       "LogisticRegression()"
      ]
     },
     "execution_count": 27,
     "metadata": {},
     "output_type": "execute_result"
    }
   ],
   "source": [
    "# Fit the model \n",
    "\n",
    "Lreg = LogReg(solver='lbfgs') \n",
    "Lreg.fit(x_train, y_train) #ravel() will return 1D array with all the input-array elements"
   ]
  },
  {
   "cell_type": "code",
   "execution_count": 32,
   "id": "7663af76",
   "metadata": {},
   "outputs": [
    {
     "name": "stdout",
     "output_type": "stream",
     "text": [
      "Prediction for test dataset  [1 0 0 0 0 0 0 1 0 0 0 0 0 0 0 0 0 1 0 0 0 1 1 0 0]\n",
      "Prediction for train dataset  [0 0 0 0 0 0 0 1 0 1 0 0 1 0 0 1 0 1 0 0 0 1 0 0 0 0 0 0 0 0 0 0 0 0 1 0 0\n",
      " 0 0 0 0 0 0 0 0 0 0 0 1 0 0 0 1 0 0 0 0 1 0 0 0 0 0 0 0 0 1 1 0 0 0 0 1 1\n",
      " 0]\n"
     ]
    }
   ],
   "source": [
    "# Predict the values of dependent variable using test and training set of independent variable\n",
    "\n",
    "\n",
    "y_predict_test = Lreg.predict(x_test)\n",
    "print('Prediction for test dataset ',y_predict_test)\n",
    "\n",
    "\n",
    "y_predict_train = Lreg.predict(x_train)\n",
    "print('Prediction for train dataset ',y_predict_train)"
   ]
  },
  {
   "cell_type": "code",
   "execution_count": null,
   "id": "0350c902",
   "metadata": {},
   "outputs": [],
   "source": [
    "# The training prediction has 75 outputs \n",
    "# The test prediction has 25 outputs \n"
   ]
  },
  {
   "cell_type": "code",
   "execution_count": 36,
   "id": "d67f9a5d",
   "metadata": {
    "scrolled": true
   },
   "outputs": [
    {
     "name": "stdout",
     "output_type": "stream",
     "text": [
      "[[0.50377883 0.49622117]\n",
      " [0.67119207 0.32880793]\n",
      " [0.55670886 0.44329114]\n",
      " [0.66679076 0.33320924]\n",
      " [0.58543535 0.41456465]\n",
      " [0.67109671 0.32890329]\n",
      " [0.6024957  0.3975043 ]\n",
      " [0.33078771 0.66921229]\n",
      " [0.74155469 0.25844531]\n",
      " [0.36327628 0.63672372]\n",
      " [0.70725614 0.29274386]\n",
      " [0.71533026 0.28466974]\n",
      " [0.4840704  0.5159296 ]\n",
      " [0.58007724 0.41992276]\n",
      " [0.75657644 0.24342356]\n",
      " [0.471486   0.528514  ]\n",
      " [0.52034893 0.47965107]\n",
      " [0.47194211 0.52805789]\n",
      " [0.66808551 0.33191449]\n",
      " [0.72542565 0.27457435]\n",
      " [0.50820704 0.49179296]\n",
      " [0.36738384 0.63261616]\n",
      " [0.75309819 0.24690181]\n",
      " [0.52910548 0.47089452]\n",
      " [0.72157924 0.27842076]\n",
      " [0.58336125 0.41663875]\n",
      " [0.63844398 0.36155602]\n",
      " [0.50029673 0.49970327]\n",
      " [0.76378364 0.23621636]\n",
      " [0.62139948 0.37860052]\n",
      " [0.51190677 0.48809323]\n",
      " [0.71122123 0.28877877]\n",
      " [0.71436141 0.28563859]\n",
      " [0.62768118 0.37231882]\n",
      " [0.34690258 0.65309742]\n",
      " [0.56192736 0.43807264]\n",
      " [0.66361522 0.33638478]\n",
      " [0.59593393 0.40406607]\n",
      " [0.76568823 0.23431177]\n",
      " [0.62717616 0.37282384]\n",
      " [0.50029673 0.49970327]\n",
      " [0.60231604 0.39768396]\n",
      " [0.67119207 0.32880793]\n",
      " [0.74217528 0.25782472]\n",
      " [0.52606166 0.47393834]\n",
      " [0.57121139 0.42878861]\n",
      " [0.73479061 0.26520939]\n",
      " [0.66679076 0.33320924]\n",
      " [0.45317501 0.54682499]\n",
      " [0.54553914 0.45446086]\n",
      " [0.55673403 0.44326597]\n",
      " [0.5034833  0.4965167 ]\n",
      " [0.39934046 0.60065954]\n",
      " [0.61010346 0.38989654]\n",
      " [0.50850553 0.49149447]\n",
      " [0.72585576 0.27414424]\n",
      " [0.72214314 0.27785686]\n",
      " [0.32535859 0.67464141]\n",
      " [0.71804996 0.28195004]\n",
      " [0.51406573 0.48593427]\n",
      " [0.61366778 0.38633222]\n",
      " [0.68626501 0.31373499]\n",
      " [0.57189915 0.42810085]\n",
      " [0.72581277 0.27418723]\n",
      " [0.55628229 0.44371771]\n",
      " [0.58370399 0.41629601]\n",
      " [0.357996   0.642004  ]\n",
      " [0.3428999  0.6571001 ]\n",
      " [0.55931975 0.44068025]\n",
      " [0.71804996 0.28195004]\n",
      " [0.59782985 0.40217015]\n",
      " [0.56192736 0.43807264]\n",
      " [0.49022347 0.50977653]\n",
      " [0.42055374 0.57944626]\n",
      " [0.7095767  0.2904233 ]]\n"
     ]
    },
    {
     "data": {
      "text/plain": [
       "array([[0.49622117, 0.32880793, 0.44329114, 0.33320924, 0.41456465,\n",
       "        0.32890329, 0.3975043 , 0.66921229, 0.25844531, 0.63672372,\n",
       "        0.29274386, 0.28466974, 0.5159296 , 0.41992276, 0.24342356,\n",
       "        0.528514  , 0.47965107, 0.52805789, 0.33191449, 0.27457435,\n",
       "        0.49179296, 0.63261616, 0.24690181, 0.47089452, 0.27842076,\n",
       "        0.41663875, 0.36155602, 0.49970327, 0.23621636, 0.37860052,\n",
       "        0.48809323, 0.28877877, 0.28563859, 0.37231882, 0.65309742,\n",
       "        0.43807264, 0.33638478, 0.40406607, 0.23431177, 0.37282384,\n",
       "        0.49970327, 0.39768396, 0.32880793, 0.25782472, 0.47393834,\n",
       "        0.42878861, 0.26520939, 0.33320924, 0.54682499, 0.45446086,\n",
       "        0.44326597, 0.4965167 , 0.60065954, 0.38989654, 0.49149447,\n",
       "        0.27414424, 0.27785686, 0.67464141, 0.28195004, 0.48593427,\n",
       "        0.38633222, 0.31373499, 0.42810085, 0.27418723, 0.44371771,\n",
       "        0.41629601, 0.642004  , 0.6571001 , 0.44068025, 0.28195004,\n",
       "        0.40217015, 0.43807264, 0.50977653, 0.57944626, 0.2904233 ]])"
      ]
     },
     "execution_count": 36,
     "metadata": {},
     "output_type": "execute_result"
    }
   ],
   "source": [
    "# Predict probablity of being 1 \n",
    "\n",
    "y_prob_1 = Lreg.predict_proba(x_train) \n",
    "print(y_prob_1)\n",
    "# we are slicing to get only the probablity of being 1\n",
    "y_prob_train = y_prob_1[:,1] \n",
    "y_prob_train.reshape(1,-1)\n"
   ]
  },
  {
   "cell_type": "code",
   "execution_count": 37,
   "id": "91995567",
   "metadata": {},
   "outputs": [
    {
     "data": {
      "text/plain": [
       "array([0.52802946, 0.49516653, 0.45703306, 0.27712052, 0.34390047,\n",
       "       0.26825171, 0.27712052, 0.607686  , 0.42836534, 0.43637155,\n",
       "       0.31387455, 0.23676248, 0.45703306, 0.43602768, 0.37596116,\n",
       "       0.44900317, 0.46952365, 0.68521935, 0.25167254, 0.47073304,\n",
       "       0.42361093, 0.56580644, 0.52792177, 0.40302605, 0.27457435])"
      ]
     },
     "execution_count": 37,
     "metadata": {},
     "output_type": "execute_result"
    }
   ],
   "source": [
    "# Doing the same with test data \n",
    "\n",
    "y_prob = Lreg.predict_proba(x_test)[:,1]\n",
    "y_prob.reshape(1,-1)\n",
    "y_prob"
   ]
  },
  {
   "cell_type": "code",
   "execution_count": 38,
   "id": "abfb2e5f",
   "metadata": {
    "scrolled": true
   },
   "outputs": [
    {
     "name": "stdout",
     "output_type": "stream",
     "text": [
      "Optimization terminated successfully.\n",
      "         Current function value: 0.604869\n",
      "         Iterations 5\n",
      "                           Logit Regression Results                           \n",
      "==============================================================================\n",
      "Dep. Variable:                 Coupon   No. Observations:                  100\n",
      "Model:                          Logit   Df Residuals:                       97\n",
      "Method:                           MLE   Df Model:                            2\n",
      "Date:                Mon, 30 May 2022   Pseudo R-squ.:                  0.1012\n",
      "Time:                        06:56:43   Log-Likelihood:                -60.487\n",
      "converged:                       True   LL-Null:                       -67.301\n",
      "Covariance Type:            nonrobust   LLR p-value:                  0.001098\n",
      "==============================================================================\n",
      "                 coef    std err          z      P>|z|      [0.025      0.975]\n",
      "------------------------------------------------------------------------------\n",
      "const         -2.1464      0.577     -3.718      0.000      -3.278      -1.015\n",
      "Spending       0.3416      0.129      2.655      0.008       0.089       0.594\n",
      "Card           1.0987      0.445      2.471      0.013       0.227       1.970\n",
      "==============================================================================\n"
     ]
    }
   ],
   "source": [
    "x = data[['Spending', 'Card']]\n",
    "y = data['Coupon']\n",
    "\n",
    "import statsmodels.api as sm\n",
    "x1 = sm.add_constant(x)\n",
    "logit_model=sm.Logit(y,x1)\n",
    "result=logit_model.fit()\n",
    "print(result.summary())"
   ]
  },
  {
   "cell_type": "markdown",
   "id": "b350ba6d",
   "metadata": {},
   "source": [
    "https://medium.datadriveninvestor.com/confusion-matric-tpr-fpr-fnr-tnr-precision-recall-f1-score-73efa162a25f"
   ]
  },
  {
   "cell_type": "markdown",
   "id": "bed72fbb",
   "metadata": {},
   "source": [
    "# Checking the accuracy of the model with test data \n"
   ]
  },
  {
   "cell_type": "code",
   "execution_count": 40,
   "id": "82e9df6d",
   "metadata": {},
   "outputs": [
    {
     "name": "stdout",
     "output_type": "stream",
     "text": [
      "The accuracy of the model is  0.76\n"
     ]
    }
   ],
   "source": [
    "from sklearn.metrics import accuracy_score\n",
    "score =accuracy_score(y_test,y_predict)\n",
    "print('The accuracy of the model is ', score)"
   ]
  },
  {
   "cell_type": "code",
   "execution_count": 44,
   "id": "fb25b69d",
   "metadata": {},
   "outputs": [
    {
     "name": "stdout",
     "output_type": "stream",
     "text": [
      "Confusion matrix \n",
      " [[15  1]\n",
      " [ 5  4]] \n",
      "\n",
      "True Negatives:  15\n",
      "False Positives:  1\n",
      "False Negatives:  5\n",
      "True Positives:  4\n"
     ]
    }
   ],
   "source": [
    "# confusion matrix \n",
    "\n",
    "from sklearn.metrics import confusion_matrix\n",
    "print('Confusion matrix \\n' , confusion_matrix(y_test, y_predict),'\\n')\n",
    "\n",
    "\n",
    "tn, fp, fn, tp = confusion_matrix(y_test, y_predict).ravel()\n",
    "print(\"True Negatives: \",tn)\n",
    "print(\"False Positives: \",fp)\n",
    "print(\"False Negatives: \",fn)\n",
    "print(\"True Positives: \",tp)"
   ]
  },
  {
   "cell_type": "code",
   "execution_count": 45,
   "id": "b199831b",
   "metadata": {
    "scrolled": false
   },
   "outputs": [
    {
     "name": "stdout",
     "output_type": "stream",
     "text": [
      "              precision    recall  f1-score   support\n",
      "\n",
      "           0       0.75      0.94      0.83        16\n",
      "           1       0.80      0.44      0.57         9\n",
      "\n",
      "    accuracy                           0.76        25\n",
      "   macro avg       0.78      0.69      0.70        25\n",
      "weighted avg       0.77      0.76      0.74        25\n",
      "\n"
     ]
    }
   ],
   "source": [
    "# Classification report \n",
    "\n",
    "from sklearn.metrics import classification_report\n",
    "print(classification_report(y_test, y_predict)) \n"
   ]
  },
  {
   "cell_type": "markdown",
   "id": "1bcaf216",
   "metadata": {},
   "source": [
    "#Recall gives us an idea about when it’s actually yes, how often does it predict yes.<br>\n",
    "#Precsion tells us about when it predicts yes, how often is it correct<br>\n",
    "#Precision = tp / (tp + fp), for 1<br>\n",
    "#Accuracy = (tp + tn) / (tp + tn + fp + fn)<br>\n",
    "#Recall=tp / (tp + fn), for 1<br>\n",
    "#Fmeasure=(2*Recall*Precision)/(Recall+Presision)<br>\n",
    "\n",
    "Harmonic mean of Precision & Recall is used to indicate a balance between Precision &<br>Recall providing each equal weightage, it ranges from 0 to 1. F1 Score reaches<br> its best value at 1 (perfect precision & recall) and worst at 0, read more here."
   ]
  },
  {
   "cell_type": "code",
   "execution_count": 61,
   "id": "82b79d9c",
   "metadata": {},
   "outputs": [
    {
     "name": "stdout",
     "output_type": "stream",
     "text": [
      "Sensitivity or Recall for 1 : 0.44\n",
      "Specificity or Recall for 0 : 0.94\n",
      "Precision_1:  0.8\n",
      "Precision_0:  0.75\n"
     ]
    }
   ],
   "source": [
    "\n",
    "# Recall for 1 --> True positive rate or SENSITIVITY\n",
    "# Recall gives us an idea about when it’s actually positive, how often does it predict positive.\n",
    "Recall_1 = tp/ (tp+fn)\n",
    "print(\"Sensitivity or Recall for 1 : {:0.2f}\".format(Recall_1))\n",
    "\n",
    "# Recall for 0 --> True negative rate or SPECIFICITY\n",
    "# Recall gives us an idea about when it’s actually negative, how often does it predict negative.\n",
    "Recall_0 = tn/(tn+fp)\n",
    "print(\"Specificity or Recall for 0 : {:0.2f}\".format(Recall_0))\n",
    "\n",
    "\n",
    "#Precision for 1\n",
    "# How much actual positive out of all positivites we got from test\n",
    "Precision_1 = tp / (tp + fp)\n",
    "print('Precision_1: ', Precision_1)\n",
    "\n",
    "\n",
    "#Precision for 0 \n",
    "# How much actual negative out of all negatives we got from test\n",
    "Precision_0 = tn / (tn + fn)\n",
    "print('Precision_0: ', Precision_0)\n"
   ]
  },
  {
   "cell_type": "code",
   "execution_count": 59,
   "id": "923977b2",
   "metadata": {},
   "outputs": [
    {
     "name": "stdout",
     "output_type": "stream",
     "text": [
      "Accuracy 0.76\n"
     ]
    }
   ],
   "source": [
    "# Accuracy \n",
    "\n",
    "Accuracy = (tp + tn) / (tp + tn + fp + fn)\n",
    "print(\"Accuracy {:0.2f}\".format(Accuracy))"
   ]
  },
  {
   "cell_type": "code",
   "execution_count": 62,
   "id": "6882c70a",
   "metadata": {},
   "outputs": [
    {
     "data": {
      "text/plain": [
       "0.5714285714285714"
      ]
     },
     "execution_count": 62,
     "metadata": {},
     "output_type": "execute_result"
    }
   ],
   "source": [
    "# F score for 1 \n",
    "\n",
    "Fmeasure_1=(2*Recall_1*Precision_1)/(Recall_1+Precision_1)\n",
    "Fmeasure_1"
   ]
  },
  {
   "cell_type": "markdown",
   "id": "7195e727",
   "metadata": {},
   "source": [
    "## ROC CURVE  with train data"
   ]
  },
  {
   "cell_type": "code",
   "execution_count": 66,
   "id": "6aad3abd",
   "metadata": {},
   "outputs": [
    {
     "data": {
      "text/html": [
       "<div>\n",
       "<style scoped>\n",
       "    .dataframe tbody tr th:only-of-type {\n",
       "        vertical-align: middle;\n",
       "    }\n",
       "\n",
       "    .dataframe tbody tr th {\n",
       "        vertical-align: top;\n",
       "    }\n",
       "\n",
       "    .dataframe thead th {\n",
       "        text-align: right;\n",
       "    }\n",
       "</style>\n",
       "<table border=\"1\" class=\"dataframe\">\n",
       "  <thead>\n",
       "    <tr style=\"text-align: right;\">\n",
       "      <th></th>\n",
       "      <th>fpr</th>\n",
       "      <th>tpr</th>\n",
       "      <th>thresholds1</th>\n",
       "    </tr>\n",
       "  </thead>\n",
       "  <tbody>\n",
       "    <tr>\n",
       "      <th>0</th>\n",
       "      <td>0.000000</td>\n",
       "      <td>0.000000</td>\n",
       "      <td>1.674641</td>\n",
       "    </tr>\n",
       "    <tr>\n",
       "      <th>1</th>\n",
       "      <td>0.000000</td>\n",
       "      <td>0.032258</td>\n",
       "      <td>0.674641</td>\n",
       "    </tr>\n",
       "    <tr>\n",
       "      <th>2</th>\n",
       "      <td>0.000000</td>\n",
       "      <td>0.096774</td>\n",
       "      <td>0.657100</td>\n",
       "    </tr>\n",
       "    <tr>\n",
       "      <th>3</th>\n",
       "      <td>0.022727</td>\n",
       "      <td>0.096774</td>\n",
       "      <td>0.653097</td>\n",
       "    </tr>\n",
       "    <tr>\n",
       "      <th>4</th>\n",
       "      <td>0.022727</td>\n",
       "      <td>0.322581</td>\n",
       "      <td>0.528514</td>\n",
       "    </tr>\n",
       "    <tr>\n",
       "      <th>5</th>\n",
       "      <td>0.090909</td>\n",
       "      <td>0.322581</td>\n",
       "      <td>0.509777</td>\n",
       "    </tr>\n",
       "    <tr>\n",
       "      <th>6</th>\n",
       "      <td>0.113636</td>\n",
       "      <td>0.354839</td>\n",
       "      <td>0.499703</td>\n",
       "    </tr>\n",
       "    <tr>\n",
       "      <th>7</th>\n",
       "      <td>0.113636</td>\n",
       "      <td>0.387097</td>\n",
       "      <td>0.496517</td>\n",
       "    </tr>\n",
       "    <tr>\n",
       "      <th>8</th>\n",
       "      <td>0.136364</td>\n",
       "      <td>0.387097</td>\n",
       "      <td>0.496221</td>\n",
       "    </tr>\n",
       "    <tr>\n",
       "      <th>9</th>\n",
       "      <td>0.136364</td>\n",
       "      <td>0.483871</td>\n",
       "      <td>0.488093</td>\n",
       "    </tr>\n",
       "    <tr>\n",
       "      <th>10</th>\n",
       "      <td>0.340909</td>\n",
       "      <td>0.483871</td>\n",
       "      <td>0.440680</td>\n",
       "    </tr>\n",
       "    <tr>\n",
       "      <th>11</th>\n",
       "      <td>0.363636</td>\n",
       "      <td>0.516129</td>\n",
       "      <td>0.438073</td>\n",
       "    </tr>\n",
       "    <tr>\n",
       "      <th>12</th>\n",
       "      <td>0.431818</td>\n",
       "      <td>0.516129</td>\n",
       "      <td>0.419923</td>\n",
       "    </tr>\n",
       "    <tr>\n",
       "      <th>13</th>\n",
       "      <td>0.431818</td>\n",
       "      <td>0.580645</td>\n",
       "      <td>0.416296</td>\n",
       "    </tr>\n",
       "    <tr>\n",
       "      <th>14</th>\n",
       "      <td>0.477273</td>\n",
       "      <td>0.580645</td>\n",
       "      <td>0.404066</td>\n",
       "    </tr>\n",
       "    <tr>\n",
       "      <th>15</th>\n",
       "      <td>0.477273</td>\n",
       "      <td>0.612903</td>\n",
       "      <td>0.402170</td>\n",
       "    </tr>\n",
       "    <tr>\n",
       "      <th>16</th>\n",
       "      <td>0.568182</td>\n",
       "      <td>0.612903</td>\n",
       "      <td>0.386332</td>\n",
       "    </tr>\n",
       "    <tr>\n",
       "      <th>17</th>\n",
       "      <td>0.568182</td>\n",
       "      <td>0.677419</td>\n",
       "      <td>0.372824</td>\n",
       "    </tr>\n",
       "    <tr>\n",
       "      <th>18</th>\n",
       "      <td>0.613636</td>\n",
       "      <td>0.677419</td>\n",
       "      <td>0.361556</td>\n",
       "    </tr>\n",
       "    <tr>\n",
       "      <th>19</th>\n",
       "      <td>0.613636</td>\n",
       "      <td>0.709677</td>\n",
       "      <td>0.336385</td>\n",
       "    </tr>\n",
       "    <tr>\n",
       "      <th>20</th>\n",
       "      <td>0.636364</td>\n",
       "      <td>0.741935</td>\n",
       "      <td>0.333209</td>\n",
       "    </tr>\n",
       "    <tr>\n",
       "      <th>21</th>\n",
       "      <td>0.659091</td>\n",
       "      <td>0.741935</td>\n",
       "      <td>0.331914</td>\n",
       "    </tr>\n",
       "    <tr>\n",
       "      <th>22</th>\n",
       "      <td>0.659091</td>\n",
       "      <td>0.774194</td>\n",
       "      <td>0.328903</td>\n",
       "    </tr>\n",
       "    <tr>\n",
       "      <th>23</th>\n",
       "      <td>0.704545</td>\n",
       "      <td>0.774194</td>\n",
       "      <td>0.328808</td>\n",
       "    </tr>\n",
       "    <tr>\n",
       "      <th>24</th>\n",
       "      <td>0.727273</td>\n",
       "      <td>0.774194</td>\n",
       "      <td>0.313735</td>\n",
       "    </tr>\n",
       "    <tr>\n",
       "      <th>25</th>\n",
       "      <td>0.727273</td>\n",
       "      <td>0.806452</td>\n",
       "      <td>0.292744</td>\n",
       "    </tr>\n",
       "    <tr>\n",
       "      <th>26</th>\n",
       "      <td>0.772727</td>\n",
       "      <td>0.806452</td>\n",
       "      <td>0.288779</td>\n",
       "    </tr>\n",
       "    <tr>\n",
       "      <th>27</th>\n",
       "      <td>0.772727</td>\n",
       "      <td>0.838710</td>\n",
       "      <td>0.285639</td>\n",
       "    </tr>\n",
       "    <tr>\n",
       "      <th>28</th>\n",
       "      <td>0.795455</td>\n",
       "      <td>0.838710</td>\n",
       "      <td>0.284670</td>\n",
       "    </tr>\n",
       "    <tr>\n",
       "      <th>29</th>\n",
       "      <td>0.818182</td>\n",
       "      <td>0.870968</td>\n",
       "      <td>0.281950</td>\n",
       "    </tr>\n",
       "    <tr>\n",
       "      <th>30</th>\n",
       "      <td>0.818182</td>\n",
       "      <td>0.967742</td>\n",
       "      <td>0.274574</td>\n",
       "    </tr>\n",
       "    <tr>\n",
       "      <th>31</th>\n",
       "      <td>0.909091</td>\n",
       "      <td>0.967742</td>\n",
       "      <td>0.258445</td>\n",
       "    </tr>\n",
       "    <tr>\n",
       "      <th>32</th>\n",
       "      <td>0.909091</td>\n",
       "      <td>1.000000</td>\n",
       "      <td>0.257825</td>\n",
       "    </tr>\n",
       "    <tr>\n",
       "      <th>33</th>\n",
       "      <td>1.000000</td>\n",
       "      <td>1.000000</td>\n",
       "      <td>0.234312</td>\n",
       "    </tr>\n",
       "  </tbody>\n",
       "</table>\n",
       "</div>"
      ],
      "text/plain": [
       "         fpr       tpr  thresholds1\n",
       "0   0.000000  0.000000     1.674641\n",
       "1   0.000000  0.032258     0.674641\n",
       "2   0.000000  0.096774     0.657100\n",
       "3   0.022727  0.096774     0.653097\n",
       "4   0.022727  0.322581     0.528514\n",
       "5   0.090909  0.322581     0.509777\n",
       "6   0.113636  0.354839     0.499703\n",
       "7   0.113636  0.387097     0.496517\n",
       "8   0.136364  0.387097     0.496221\n",
       "9   0.136364  0.483871     0.488093\n",
       "10  0.340909  0.483871     0.440680\n",
       "11  0.363636  0.516129     0.438073\n",
       "12  0.431818  0.516129     0.419923\n",
       "13  0.431818  0.580645     0.416296\n",
       "14  0.477273  0.580645     0.404066\n",
       "15  0.477273  0.612903     0.402170\n",
       "16  0.568182  0.612903     0.386332\n",
       "17  0.568182  0.677419     0.372824\n",
       "18  0.613636  0.677419     0.361556\n",
       "19  0.613636  0.709677     0.336385\n",
       "20  0.636364  0.741935     0.333209\n",
       "21  0.659091  0.741935     0.331914\n",
       "22  0.659091  0.774194     0.328903\n",
       "23  0.704545  0.774194     0.328808\n",
       "24  0.727273  0.774194     0.313735\n",
       "25  0.727273  0.806452     0.292744\n",
       "26  0.772727  0.806452     0.288779\n",
       "27  0.772727  0.838710     0.285639\n",
       "28  0.795455  0.838710     0.284670\n",
       "29  0.818182  0.870968     0.281950\n",
       "30  0.818182  0.967742     0.274574\n",
       "31  0.909091  0.967742     0.258445\n",
       "32  0.909091  1.000000     0.257825\n",
       "33  1.000000  1.000000     0.234312"
      ]
     },
     "execution_count": 66,
     "metadata": {},
     "output_type": "execute_result"
    }
   ],
   "source": [
    "from sklearn.metrics import roc_auc_score\n",
    "from sklearn.metrics import roc_curve, auc\n",
    "log_ROC_AUC1 = roc_auc_score(y_train, y_predict_train)\n",
    "fpr1, tpr1, thresholds1= roc_curve(y_train, y_prob_train)\n",
    "df = pd.DataFrame({'fpr':fpr1,'tpr':tpr1,'thresholds1':thresholds1})\n",
    "print(df)\n",
    "roc_auc1 = auc(fpr1, tpr1)\n",
    "df"
   ]
  },
  {
   "cell_type": "code",
   "execution_count": 65,
   "id": "8e7b4bf3",
   "metadata": {
    "scrolled": true
   },
   "outputs": [
    {
     "data": {
      "image/png": "[encoded data removed]",
      "text/plain": [
       "<Figure size 432x288 with 1 Axes>"
      ]
     },
     "metadata": {
      "needs_background": "light"
     },
     "output_type": "display_data"
    }
   ],
   "source": [
    "plt.figure()\n",
    "plt.plot(fpr1, tpr1, color='blue', label='ROC curve (area = %0.2f)' % roc_auc1)\n",
    "plt.plot([0, 1], [0, 1],'r--')\n",
    "plt.xlim([0.0, 1.0])\n",
    "plt.ylim([0.0, 1.05])\n",
    "plt.xlabel('False Positive Rate')\n",
    "plt.ylabel('True Positive Rate')\n",
    "plt.title('Receiver operating characteristic example')\n",
    "plt.legend(loc=\"lower right\")\n",
    "plt.show()"
   ]
  },
  {
   "cell_type": "markdown",
   "id": "7f485fe1",
   "metadata": {},
   "source": [
    "## ROC Curve with test data "
   ]
  },
  {
   "cell_type": "code",
   "execution_count": 67,
   "id": "2e160eb4",
   "metadata": {},
   "outputs": [],
   "source": [
    "log_ROC_AUC = roc_auc_score(y_test, y_predict)\n",
    "fpr, tpr, thresholds= roc_curve(y_test, y_prob)\n",
    "roc_auc = auc(fpr, tpr)"
   ]
  },
  {
   "cell_type": "code",
   "execution_count": 68,
   "id": "d7810ea5",
   "metadata": {
    "scrolled": true
   },
   "outputs": [
    {
     "data": {
      "image/png": "[encoded data removed]",
      "text/plain": [
       "<Figure size 432x288 with 1 Axes>"
      ]
     },
     "metadata": {
      "needs_background": "light"
     },
     "output_type": "display_data"
    }
   ],
   "source": [
    "plt.figure()\n",
    "plt.plot(fpr, tpr, color='blue', label='ROC curve (area = %0.2f)' % roc_auc)\n",
    "plt.plot([0, 1], [0, 1],'r--')\n",
    "plt.xlim([0.0, 1.0])\n",
    "plt.ylim([0.0, 1.05])\n",
    "plt.xlabel('False Positive Rate')\n",
    "plt.ylabel('True Positive Rate')\n",
    "plt.title('Receiver operating characteristic example')\n",
    "plt.legend(loc=\"lower right\")\n",
    "plt.show()"
   ]
  },
  {
   "cell_type": "markdown",
   "id": "67cafe05",
   "metadata": {},
   "source": [
    "##### You can see the AUC for test data is 0.9 and for the train data it is 0.64. \n",
    "\n",
    "##### Our model works well with test data."
   ]
  },
  {
   "cell_type": "markdown",
   "id": "4bdd2268",
   "metadata": {},
   "source": [
    "# Find the optimal threshold value "
   ]
  },
  {
   "cell_type": "markdown",
   "id": "2ee3ec9c",
   "metadata": {},
   "source": [
    "The earlier predictions were based on the default thereshold value 0.5. We can change it to see how the AUC is improved \n"
   ]
  },
  {
   "cell_type": "markdown",
   "id": "4ce3735e",
   "metadata": {},
   "source": [
    "### Case 1 : Threshold  = 0.35"
   ]
  },
  {
   "cell_type": "code",
   "execution_count": 70,
   "id": "f3258473",
   "metadata": {},
   "outputs": [
    {
     "data": {
      "text/plain": [
       "array([1., 1., 1., 0., 0., 0., 0., 1., 1., 1., 0., 0., 1., 1., 1., 1., 1.,\n",
       "       1., 0., 1., 1., 1., 1., 1., 0.])"
      ]
     },
     "execution_count": 70,
     "metadata": {},
     "output_type": "execute_result"
    }
   ],
   "source": [
    "from sklearn.preprocessing import binarize\n",
    "y_predict_class1 = binarize(y_prob.reshape(1,-1), threshold=0.35)[0]\n",
    "y_predict_class1"
   ]
  },
  {
   "cell_type": "code",
   "execution_count": 71,
   "id": "906d961d",
   "metadata": {},
   "outputs": [
    {
     "data": {
      "text/plain": [
       "array([1, 1, 1, 0, 0, 0, 0, 1, 1, 1, 0, 0, 1, 1, 1, 1, 1, 1, 0, 1, 1, 1,\n",
       "       1, 1, 0])"
      ]
     },
     "execution_count": 71,
     "metadata": {},
     "output_type": "execute_result"
    }
   ],
   "source": [
    "#converting the array from float data type to integer data type\n",
    "y_predict_class1 = y_predict_class1.astype(int)\n",
    "y_predict_class1"
   ]
  },
  {
   "cell_type": "code",
   "execution_count": 72,
   "id": "cc5b4170",
   "metadata": {},
   "outputs": [
    {
     "name": "stdout",
     "output_type": "stream",
     "text": [
      "[[8 8]\n",
      " [0 9]]\n"
     ]
    }
   ],
   "source": [
    "confusion_matrix_2 = confusion_matrix(y_test, y_predict_class1)\n",
    "print(confusion_matrix_2)"
   ]
  },
  {
   "cell_type": "code",
   "execution_count": 73,
   "id": "45dd0f86",
   "metadata": {},
   "outputs": [
    {
     "name": "stdout",
     "output_type": "stream",
     "text": [
      "True Negatives:  8\n",
      "False Positives:  8\n",
      "False Negatives:  0\n",
      "True Positives:  9\n"
     ]
    }
   ],
   "source": [
    "tn, fp, fn, tp = confusion_matrix(y_test, y_predict_class1).ravel()\n",
    "print(\"True Negatives: \",tn)\n",
    "print(\"False Positives: \",fp)\n",
    "print(\"False Negatives: \",fn)\n",
    "print(\"True Positives: \",tp)"
   ]
  },
  {
   "cell_type": "code",
   "execution_count": 74,
   "id": "4e4064ad",
   "metadata": {
    "scrolled": false
   },
   "outputs": [
    {
     "name": "stdout",
     "output_type": "stream",
     "text": [
      "              precision    recall  f1-score   support\n",
      "\n",
      "           0       1.00      0.50      0.67        16\n",
      "           1       0.53      1.00      0.69         9\n",
      "\n",
      "    accuracy                           0.68        25\n",
      "   macro avg       0.76      0.75      0.68        25\n",
      "weighted avg       0.83      0.68      0.68        25\n",
      "\n"
     ]
    }
   ],
   "source": [
    "from sklearn.metrics import classification_report\n",
    "print(classification_report(y_test, y_predict_class1))"
   ]
  },
  {
   "cell_type": "markdown",
   "id": "df5ca440",
   "metadata": {},
   "source": [
    "  #### Interpretation \n",
    "  \n",
    "  Sensitivity is 1 that means it predicts all actual positive <br>\n",
    " \n",
    "  **Sensitivity gives us an idea about when it’s actually positive, how often does it predict positive.\n",
    "  \n",
    "  Specificity is 0.5 that means it predicts half  of the actual negative<br>\n",
    "  \n",
    "  **Specificity gives us an idea about when it’s actually negative, how often does it predict negative.\n",
    "\n"
   ]
  },
  {
   "cell_type": "markdown",
   "id": "f27f387a",
   "metadata": {},
   "source": [
    "### Case 2 : Threshold  = 0.5"
   ]
  },
  {
   "cell_type": "code",
   "execution_count": 78,
   "id": "b24dbf3d",
   "metadata": {},
   "outputs": [
    {
     "data": {
      "text/plain": [
       "array([1., 0., 0., 0., 0., 0., 0., 1., 0., 0., 0., 0., 0., 0., 0., 0., 0.,\n",
       "       1., 0., 0., 0., 1., 1., 0., 0.])"
      ]
     },
     "execution_count": 78,
     "metadata": {},
     "output_type": "execute_result"
    }
   ],
   "source": [
    "from sklearn.preprocessing import binarize\n",
    "y_predict_class2 = binarize(y_prob.reshape(1,-1),threshold= 0.50)[0]\n",
    "y_predict_class2"
   ]
  },
  {
   "cell_type": "code",
   "execution_count": 76,
   "id": "68fc656b",
   "metadata": {},
   "outputs": [
    {
     "name": "stdout",
     "output_type": "stream",
     "text": [
      "[[15  1]\n",
      " [ 5  4]]\n"
     ]
    }
   ],
   "source": [
    "confusion_matrix_3 = confusion_matrix(y_test, y_predict_class2)\n",
    "print(confusion_matrix_3)"
   ]
  },
  {
   "cell_type": "code",
   "execution_count": 77,
   "id": "f426ecc6",
   "metadata": {
    "scrolled": true
   },
   "outputs": [
    {
     "name": "stdout",
     "output_type": "stream",
     "text": [
      "              precision    recall  f1-score   support\n",
      "\n",
      "           0       0.75      0.94      0.83        16\n",
      "           1       0.80      0.44      0.57         9\n",
      "\n",
      "    accuracy                           0.76        25\n",
      "   macro avg       0.78      0.69      0.70        25\n",
      "weighted avg       0.77      0.76      0.74        25\n",
      "\n"
     ]
    }
   ],
   "source": [
    "from sklearn.metrics import classification_report\n",
    "print(classification_report(y_test, y_predict_class2))"
   ]
  },
  {
   "cell_type": "markdown",
   "id": "0e2bbc62",
   "metadata": {},
   "source": [
    "### Case 2 : Threshold  = 0.70"
   ]
  },
  {
   "cell_type": "code",
   "execution_count": 79,
   "id": "ad3e149a",
   "metadata": {},
   "outputs": [
    {
     "data": {
      "text/plain": [
       "array([0., 0., 0., 0., 0., 0., 0., 0., 0., 0., 0., 0., 0., 0., 0., 0., 0.,\n",
       "       0., 0., 0., 0., 0., 0., 0., 0.])"
      ]
     },
     "execution_count": 79,
     "metadata": {},
     "output_type": "execute_result"
    }
   ],
   "source": [
    "from sklearn.preprocessing import binarize\n",
    "y_predict_class3 = binarize(y_prob.reshape(1,-1), threshold = 0.70)[0]\n",
    "y_predict_class3"
   ]
  },
  {
   "cell_type": "code",
   "execution_count": 80,
   "id": "dd3f7b85",
   "metadata": {
    "scrolled": true
   },
   "outputs": [
    {
     "name": "stdout",
     "output_type": "stream",
     "text": [
      "[[16  0]\n",
      " [ 9  0]]\n"
     ]
    }
   ],
   "source": [
    "confusion_matrix_4 = confusion_matrix(y_test, y_predict_class3)\n",
    "print(confusion_matrix_4)"
   ]
  },
  {
   "cell_type": "code",
   "execution_count": 81,
   "id": "b3803ae4",
   "metadata": {
    "scrolled": true
   },
   "outputs": [
    {
     "name": "stdout",
     "output_type": "stream",
     "text": [
      "              precision    recall  f1-score   support\n",
      "\n",
      "           0       0.64      1.00      0.78        16\n",
      "           1       0.00      0.00      0.00         9\n",
      "\n",
      "    accuracy                           0.64        25\n",
      "   macro avg       0.32      0.50      0.39        25\n",
      "weighted avg       0.41      0.64      0.50        25\n",
      "\n"
     ]
    },
    {
     "name": "stderr",
     "output_type": "stream",
     "text": [
      "C:\\Users\\Z028726\\Anaconda3\\lib\\site-packages\\sklearn\\metrics\\_classification.py:1245: UndefinedMetricWarning: Precision and F-score are ill-defined and being set to 0.0 in labels with no predicted samples. Use `zero_division` parameter to control this behavior.\n",
      "  _warn_prf(average, modifier, msg_start, len(result))\n",
      "C:\\Users\\Z028726\\Anaconda3\\lib\\site-packages\\sklearn\\metrics\\_classification.py:1245: UndefinedMetricWarning: Precision and F-score are ill-defined and being set to 0.0 in labels with no predicted samples. Use `zero_division` parameter to control this behavior.\n",
      "  _warn_prf(average, modifier, msg_start, len(result))\n",
      "C:\\Users\\Z028726\\Anaconda3\\lib\\site-packages\\sklearn\\metrics\\_classification.py:1245: UndefinedMetricWarning: Precision and F-score are ill-defined and being set to 0.0 in labels with no predicted samples. Use `zero_division` parameter to control this behavior.\n",
      "  _warn_prf(average, modifier, msg_start, len(result))\n"
     ]
    }
   ],
   "source": [
    "from sklearn.metrics import classification_report\n",
    "print(classification_report(y_test, y_predict_class3))"
   ]
  },
  {
   "cell_type": "markdown",
   "id": "24ff522d",
   "metadata": {},
   "source": [
    "##### interpretation \n",
    "\n",
    "when we increase the threshold from 0.35 to 0.7 \n",
    "\n",
    "Sensitivity is decreasing and Specificity is increasing \n",
    "\n"
   ]
  },
  {
   "cell_type": "markdown",
   "id": "1085ae2b",
   "metadata": {},
   "source": [
    "# Optimal threshold value "
   ]
  },
  {
   "cell_type": "code",
   "execution_count": 84,
   "id": "854c6aa0",
   "metadata": {},
   "outputs": [
    {
     "name": "stdout",
     "output_type": "stream",
     "text": [
      "Area under the ROC curve : 0.902778\n"
     ]
    }
   ],
   "source": [
    "from sklearn.metrics import roc_curve, auc\n",
    "fpr, tpr, thresholds= roc_curve(y_test, y_prob)\n",
    "roc_auc = auc(fpr, tpr)\n",
    "print(\"Area under the ROC curve : %f\" % roc_auc)"
   ]
  },
  {
   "cell_type": "markdown",
   "id": "ef2398d7",
   "metadata": {},
   "source": [
    "##### This is the max ROC we can obtain in this model for the given data \n",
    "##### Have to find for which threshold value we get the max AUC "
   ]
  },
  {
   "cell_type": "code",
   "execution_count": 85,
   "id": "31fc3aeb",
   "metadata": {},
   "outputs": [
    {
     "data": {
      "text/html": [
       "<div>\n",
       "<style scoped>\n",
       "    .dataframe tbody tr th:only-of-type {\n",
       "        vertical-align: middle;\n",
       "    }\n",
       "\n",
       "    .dataframe tbody tr th {\n",
       "        vertical-align: top;\n",
       "    }\n",
       "\n",
       "    .dataframe thead th {\n",
       "        text-align: right;\n",
       "    }\n",
       "</style>\n",
       "<table border=\"1\" class=\"dataframe\">\n",
       "  <thead>\n",
       "    <tr style=\"text-align: right;\">\n",
       "      <th></th>\n",
       "      <th>fpr</th>\n",
       "      <th>tpr</th>\n",
       "      <th>1-fpr</th>\n",
       "      <th>tf</th>\n",
       "      <th>thresholds</th>\n",
       "    </tr>\n",
       "  </thead>\n",
       "  <tbody>\n",
       "    <tr>\n",
       "      <th>0</th>\n",
       "      <td>0.0000</td>\n",
       "      <td>0.000000</td>\n",
       "      <td>1.0000</td>\n",
       "      <td>-1.000000</td>\n",
       "      <td>1.685219</td>\n",
       "    </tr>\n",
       "    <tr>\n",
       "      <th>1</th>\n",
       "      <td>0.0000</td>\n",
       "      <td>0.111111</td>\n",
       "      <td>1.0000</td>\n",
       "      <td>-0.888889</td>\n",
       "      <td>0.685219</td>\n",
       "    </tr>\n",
       "    <tr>\n",
       "      <th>2</th>\n",
       "      <td>0.0000</td>\n",
       "      <td>0.333333</td>\n",
       "      <td>1.0000</td>\n",
       "      <td>-0.666667</td>\n",
       "      <td>0.565806</td>\n",
       "    </tr>\n",
       "    <tr>\n",
       "      <th>3</th>\n",
       "      <td>0.0625</td>\n",
       "      <td>0.333333</td>\n",
       "      <td>0.9375</td>\n",
       "      <td>-0.604167</td>\n",
       "      <td>0.528029</td>\n",
       "    </tr>\n",
       "    <tr>\n",
       "      <th>4</th>\n",
       "      <td>0.0625</td>\n",
       "      <td>0.555556</td>\n",
       "      <td>0.9375</td>\n",
       "      <td>-0.381944</td>\n",
       "      <td>0.495167</td>\n",
       "    </tr>\n",
       "    <tr>\n",
       "      <th>5</th>\n",
       "      <td>0.1250</td>\n",
       "      <td>0.555556</td>\n",
       "      <td>0.8750</td>\n",
       "      <td>-0.319444</td>\n",
       "      <td>0.470733</td>\n",
       "    </tr>\n",
       "    <tr>\n",
       "      <th>6</th>\n",
       "      <td>0.1250</td>\n",
       "      <td>0.666667</td>\n",
       "      <td>0.8750</td>\n",
       "      <td>-0.208333</td>\n",
       "      <td>0.469524</td>\n",
       "    </tr>\n",
       "    <tr>\n",
       "      <th>7</th>\n",
       "      <td>0.1250</td>\n",
       "      <td>0.888889</td>\n",
       "      <td>0.8750</td>\n",
       "      <td>0.013889</td>\n",
       "      <td>0.457033</td>\n",
       "    </tr>\n",
       "    <tr>\n",
       "      <th>8</th>\n",
       "      <td>0.3750</td>\n",
       "      <td>0.888889</td>\n",
       "      <td>0.6250</td>\n",
       "      <td>0.263889</td>\n",
       "      <td>0.428365</td>\n",
       "    </tr>\n",
       "    <tr>\n",
       "      <th>9</th>\n",
       "      <td>0.3750</td>\n",
       "      <td>1.000000</td>\n",
       "      <td>0.6250</td>\n",
       "      <td>0.375000</td>\n",
       "      <td>0.423611</td>\n",
       "    </tr>\n",
       "    <tr>\n",
       "      <th>10</th>\n",
       "      <td>0.6250</td>\n",
       "      <td>1.000000</td>\n",
       "      <td>0.3750</td>\n",
       "      <td>0.625000</td>\n",
       "      <td>0.313875</td>\n",
       "    </tr>\n",
       "    <tr>\n",
       "      <th>11</th>\n",
       "      <td>0.7500</td>\n",
       "      <td>1.000000</td>\n",
       "      <td>0.2500</td>\n",
       "      <td>0.750000</td>\n",
       "      <td>0.277121</td>\n",
       "    </tr>\n",
       "    <tr>\n",
       "      <th>12</th>\n",
       "      <td>1.0000</td>\n",
       "      <td>1.000000</td>\n",
       "      <td>0.0000</td>\n",
       "      <td>1.000000</td>\n",
       "      <td>0.236762</td>\n",
       "    </tr>\n",
       "  </tbody>\n",
       "</table>\n",
       "</div>"
      ],
      "text/plain": [
       "       fpr       tpr   1-fpr        tf  thresholds\n",
       "0   0.0000  0.000000  1.0000 -1.000000    1.685219\n",
       "1   0.0000  0.111111  1.0000 -0.888889    0.685219\n",
       "2   0.0000  0.333333  1.0000 -0.666667    0.565806\n",
       "3   0.0625  0.333333  0.9375 -0.604167    0.528029\n",
       "4   0.0625  0.555556  0.9375 -0.381944    0.495167\n",
       "5   0.1250  0.555556  0.8750 -0.319444    0.470733\n",
       "6   0.1250  0.666667  0.8750 -0.208333    0.469524\n",
       "7   0.1250  0.888889  0.8750  0.013889    0.457033\n",
       "8   0.3750  0.888889  0.6250  0.263889    0.428365\n",
       "9   0.3750  1.000000  0.6250  0.375000    0.423611\n",
       "10  0.6250  1.000000  0.3750  0.625000    0.313875\n",
       "11  0.7500  1.000000  0.2500  0.750000    0.277121\n",
       "12  1.0000  1.000000  0.0000  1.000000    0.236762"
      ]
     },
     "execution_count": 85,
     "metadata": {},
     "output_type": "execute_result"
    }
   ],
   "source": [
    "import numpy as np\n",
    "i = np.arange(len(tpr)) # index for df\n",
    "roc = pd.DataFrame({'fpr' : pd.Series(fpr, index=i),'tpr' : pd.Series(tpr, index = i), \n",
    "                    '1-fpr' : pd.Series(1-fpr, index = i), 'tf' : pd.Series(tpr - (1-fpr), index = i), \n",
    "                    'thresholds' : pd.Series(thresholds, index = i)})\n",
    "\n",
    "roc\n"
   ]
  },
  {
   "cell_type": "code",
   "execution_count": 88,
   "id": "1db87bc4",
   "metadata": {
    "scrolled": true
   },
   "outputs": [
    {
     "data": {
      "text/html": [
       "<div>\n",
       "<style scoped>\n",
       "    .dataframe tbody tr th:only-of-type {\n",
       "        vertical-align: middle;\n",
       "    }\n",
       "\n",
       "    .dataframe tbody tr th {\n",
       "        vertical-align: top;\n",
       "    }\n",
       "\n",
       "    .dataframe thead th {\n",
       "        text-align: right;\n",
       "    }\n",
       "</style>\n",
       "<table border=\"1\" class=\"dataframe\">\n",
       "  <thead>\n",
       "    <tr style=\"text-align: right;\">\n",
       "      <th></th>\n",
       "      <th>fpr</th>\n",
       "      <th>tpr</th>\n",
       "      <th>1-fpr</th>\n",
       "      <th>tf</th>\n",
       "      <th>thresholds</th>\n",
       "    </tr>\n",
       "  </thead>\n",
       "  <tbody>\n",
       "    <tr>\n",
       "      <th>7</th>\n",
       "      <td>0.125</td>\n",
       "      <td>0.888889</td>\n",
       "      <td>0.875</td>\n",
       "      <td>0.013889</td>\n",
       "      <td>0.457033</td>\n",
       "    </tr>\n",
       "  </tbody>\n",
       "</table>\n",
       "</div>"
      ],
      "text/plain": [
       "     fpr       tpr  1-fpr        tf  thresholds\n",
       "7  0.125  0.888889  0.875  0.013889    0.457033"
      ]
     },
     "execution_count": 88,
     "metadata": {},
     "output_type": "execute_result"
    }
   ],
   "source": [
    "roc.iloc[(roc.tf-0).abs().argsort()[:1]]"
   ]
  },
  {
   "cell_type": "markdown",
   "id": "e421615f",
   "metadata": {},
   "source": [
    "# optimal threshold value is : 0.457 "
   ]
  },
  {
   "cell_type": "code",
   "execution_count": 89,
   "id": "67ce3870",
   "metadata": {
    "scrolled": true
   },
   "outputs": [
    {
     "data": {
      "text/plain": [
       "[Text(-2.0, 0, ''),\n",
       " Text(0.0, 0, ''),\n",
       " Text(2.0, 0, ''),\n",
       " Text(4.0, 0, ''),\n",
       " Text(6.0, 0, ''),\n",
       " Text(8.0, 0, ''),\n",
       " Text(10.0, 0, ''),\n",
       " Text(12.0, 0, ''),\n",
       " Text(14.0, 0, '')]"
      ]
     },
     "execution_count": 89,
     "metadata": {},
     "output_type": "execute_result"
    },
    {
     "data": {
      "image/png": "[encoded data removed]",
      "text/plain": [
       "<Figure size 432x288 with 1 Axes>"
      ]
     },
     "metadata": {
      "needs_background": "light"
     },
     "output_type": "display_data"
    }
   ],
   "source": [
    "fig, ax = plt.subplots()\n",
    "plt.plot(roc['tpr'])\n",
    "plt.plot(roc['1-fpr'], color = 'red')\n",
    "plt.xlabel('1-False Positive Rate')\n",
    "plt.ylabel('True Positive Rate')\n",
    "plt.title('Receiver operating characteristic')\n",
    "ax.set_xticklabels([])"
   ]
  },
  {
   "cell_type": "code",
   "execution_count": 91,
   "id": "ffcf2fbd",
   "metadata": {},
   "outputs": [
    {
     "data": {
      "text/plain": [
       "array([1., 1., 1., 0., 0., 0., 0., 1., 0., 0., 0., 0., 1., 0., 0., 0., 1.,\n",
       "       1., 0., 1., 0., 1., 1., 0., 0.])"
      ]
     },
     "execution_count": 91,
     "metadata": {},
     "output_type": "execute_result"
    }
   ],
   "source": [
    "from sklearn.preprocessing import binarize\n",
    "y_predict_class4 = binarize(y_prob.reshape(1,-1), threshold = 0.45)[0]\n",
    "y_predict_class4"
   ]
  },
  {
   "cell_type": "code",
   "execution_count": 92,
   "id": "5be78187",
   "metadata": {
    "scrolled": true
   },
   "outputs": [
    {
     "name": "stdout",
     "output_type": "stream",
     "text": [
      "[[14  2]\n",
      " [ 1  8]]\n"
     ]
    }
   ],
   "source": [
    "confusion_matrix_5 = confusion_matrix(y_test, y_predict_class4)\n",
    "print(confusion_matrix_5)"
   ]
  },
  {
   "cell_type": "code",
   "execution_count": 93,
   "id": "fbf8940d",
   "metadata": {
    "scrolled": true
   },
   "outputs": [
    {
     "name": "stdout",
     "output_type": "stream",
     "text": [
      "              precision    recall  f1-score   support\n",
      "\n",
      "           0       0.93      0.88      0.90        16\n",
      "           1       0.80      0.89      0.84         9\n",
      "\n",
      "    accuracy                           0.88        25\n",
      "   macro avg       0.87      0.88      0.87        25\n",
      "weighted avg       0.89      0.88      0.88        25\n",
      "\n"
     ]
    }
   ],
   "source": [
    "from sklearn.metrics import classification_report\n",
    "print(classification_report(y_test, y_predict_class4))"
   ]
  },
  {
   "cell_type": "markdown",
   "id": "59e39793",
   "metadata": {},
   "source": [
    "# Interpretation \n",
    "\n",
    "Accuracy is 0.88\n",
    "Sensitivity : 0.89 \n",
    "Specificity : 0.88 \n",
    "\n"
   ]
  }
 ],
 "metadata": {
  "kernelspec": {
   "display_name": "Python 3",
   "language": "python",
   "name": "python3"
  },
  "language_info": {
   "codemirror_mode": {
    "name": "ipython",
    "version": 3
   },
   "file_extension": ".py",
   "mimetype": "text/x-python",
   "name": "python",
   "nbconvert_exporter": "python",
   "pygments_lexer": "ipython3",
   "version": "3.8.8"
  }
 },
 "nbformat": 4,
 "nbformat_minor": 5
}
