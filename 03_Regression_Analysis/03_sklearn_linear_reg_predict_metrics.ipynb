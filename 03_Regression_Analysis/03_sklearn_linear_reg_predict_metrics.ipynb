{
 "cells": [
  {
   "cell_type": "code",
   "execution_count": 70,
   "id": "faa128ca",
   "metadata": {
    "scrolled": true
   },
   "outputs": [
    {
     "name": "stdout",
     "output_type": "stream",
     "text": [
      "Index(['Unnamed: 0', 'carat', 'cut', 'color', 'clarity', 'depth', 'table',\n",
      "       'price', 'x', 'y', 'z'],\n",
      "      dtype='object')\n"
     ]
    },
    {
     "data": {
      "text/html": [
       "<div>\n",
       "<style scoped>\n",
       "    .dataframe tbody tr th:only-of-type {\n",
       "        vertical-align: middle;\n",
       "    }\n",
       "\n",
       "    .dataframe tbody tr th {\n",
       "        vertical-align: top;\n",
       "    }\n",
       "\n",
       "    .dataframe thead th {\n",
       "        text-align: right;\n",
       "    }\n",
       "</style>\n",
       "<table border=\"1\" class=\"dataframe\">\n",
       "  <thead>\n",
       "    <tr style=\"text-align: right;\">\n",
       "      <th></th>\n",
       "      <th>carat</th>\n",
       "      <th>depth</th>\n",
       "      <th>table</th>\n",
       "      <th>price</th>\n",
       "    </tr>\n",
       "  </thead>\n",
       "  <tbody>\n",
       "    <tr>\n",
       "      <th>carat</th>\n",
       "      <td>1.000000</td>\n",
       "      <td>0.028224</td>\n",
       "      <td>0.181618</td>\n",
       "      <td>0.921591</td>\n",
       "    </tr>\n",
       "    <tr>\n",
       "      <th>depth</th>\n",
       "      <td>0.028224</td>\n",
       "      <td>1.000000</td>\n",
       "      <td>-0.295779</td>\n",
       "      <td>-0.010647</td>\n",
       "    </tr>\n",
       "    <tr>\n",
       "      <th>table</th>\n",
       "      <td>0.181618</td>\n",
       "      <td>-0.295779</td>\n",
       "      <td>1.000000</td>\n",
       "      <td>0.127134</td>\n",
       "    </tr>\n",
       "    <tr>\n",
       "      <th>price</th>\n",
       "      <td>0.921591</td>\n",
       "      <td>-0.010647</td>\n",
       "      <td>0.127134</td>\n",
       "      <td>1.000000</td>\n",
       "    </tr>\n",
       "  </tbody>\n",
       "</table>\n",
       "</div>"
      ],
      "text/plain": [
       "          carat     depth     table     price\n",
       "carat  1.000000  0.028224  0.181618  0.921591\n",
       "depth  0.028224  1.000000 -0.295779 -0.010647\n",
       "table  0.181618 -0.295779  1.000000  0.127134\n",
       "price  0.921591 -0.010647  0.127134  1.000000"
      ]
     },
     "execution_count": 70,
     "metadata": {},
     "output_type": "execute_result"
    }
   ],
   "source": [
    "from sklearn.linear_model import LinearRegression as LR \n",
    "from sklearn.model_selection import train_test_split as tts\n",
    "import pandas as pd\n",
    "import seaborn as sns\n",
    "import numpy as np\n",
    "# Get input data \n",
    "df = pd.read_csv(r'D:\\ERA_ML\\IIT Roorkee\\Dataset\\kaggle_dataset\\diamonds_linear_regression.csv',)\n",
    "print(df.columns)\n",
    "df.drop(labels =['Unnamed: 0','x','y','z'],  axis=1 ,inplace=True) # \n",
    "\n",
    "\n",
    "df.corr()\n"
   ]
  },
  {
   "cell_type": "code",
   "execution_count": null,
   "id": "a73e4c8d",
   "metadata": {},
   "outputs": [],
   "source": []
  },
  {
   "cell_type": "code",
   "execution_count": 71,
   "id": "ae7c1c11",
   "metadata": {},
   "outputs": [
    {
     "data": {
      "text/plain": [
       "<AxesSubplot:xlabel='carat', ylabel='price'>"
      ]
     },
     "execution_count": 71,
     "metadata": {},
     "output_type": "execute_result"
    },
    {
     "data": {
      "image/png": "[encoded data removed]",
      "text/plain": [
       "<Figure size 432x288 with 1 Axes>"
      ]
     },
     "metadata": {
      "needs_background": "light"
     },
     "output_type": "display_data"
    }
   ],
   "source": [
    "# Data visualization  Verify whether a linear relationship exists between dependent and independent\n",
    "\n",
    "#sns.pairplot(df)\n",
    "\n",
    "sns.scatterplot(x=df['carat'],y=df['price'])\n",
    "sns.regplot(x=df['carat'],y=df['price'])\n"
   ]
  },
  {
   "cell_type": "code",
   "execution_count": 72,
   "id": "afc97704",
   "metadata": {},
   "outputs": [
    {
     "name": "stdout",
     "output_type": "stream",
     "text": [
      "The coefficient of determination (r**2): 0.8496640986718639\n",
      "The slope is : [[7756.21934843]]\n",
      "The intercept is : [-2258.22116547]\n"
     ]
    }
   ],
   "source": [
    "# Split 80 20 Training test \n",
    "X= df['carat']\n",
    "y = df['price']\n",
    "\n",
    "X_train, X_test, y_train, y_test=tts(X,y, test_size=0.2, train_size=0.8, random_state=40, shuffle=True, stratify=None)\n",
    "\n",
    "# Build the model with training data\n",
    "X = np.array(X_train).reshape(-1,1)\n",
    "y = np.array(y_train).reshape(-1,1)\n",
    "reg = LR().fit(X, y)\n",
    "\n",
    "#Getting the coefficient of determination \n",
    "r_square = reg.score(X, y)\n",
    "print('The coefficient of determination (r**2):',r_square)\n",
    "\n",
    "\n",
    "#Unpacking the result\n",
    "print('The slope is :', reg.coef_)\n",
    "print('The intercept is :',reg.intercept_)\n",
    "\n",
    "\n"
   ]
  },
  {
   "cell_type": "code",
   "execution_count": 73,
   "id": "10d99e88",
   "metadata": {},
   "outputs": [
    {
     "name": "stdout",
     "output_type": "stream",
     "text": [
      "[[ 146.20683254]\n",
      " [ 921.82876738]\n",
      " [  68.64463905]\n",
      " [3171.13237842]\n",
      " [5963.37134386]]\n",
      "[[1046]\n",
      " [ 923]\n",
      " [ 675]\n",
      " [2348]\n",
      " [4903]]\n"
     ]
    },
    {
     "data": {
      "text/plain": [
       "2456952.336822184"
      ]
     },
     "execution_count": 73,
     "metadata": {},
     "output_type": "execute_result"
    }
   ],
   "source": [
    "# Predict the dependent variable\n",
    "X_test = np.array(X_test).reshape(-1,1)\n",
    "y_test = np.array(y_test).reshape(-1,1)\n",
    "predicted_y = reg.predict(X_test)\n",
    "\n",
    "print(predicted_y[:5])\n",
    "print(y_test[:5])\n",
    "# Get the metrics MSE , r , r_square\n",
    "\n",
    "from sklearn.metrics import mean_squared_error as MSE\n",
    "\n",
    "MSE(y_true=y_test, y_pred=predicted_y)\n",
    "\n"
   ]
  },
  {
   "cell_type": "code",
   "execution_count": 74,
   "id": "47b04dce",
   "metadata": {},
   "outputs": [
    {
     "data": {
      "text/plain": [
       "0.8480118368870907"
      ]
     },
     "execution_count": 74,
     "metadata": {},
     "output_type": "execute_result"
    }
   ],
   "source": [
    "import sklearn\n",
    "sklearn.metrics.r2_score(y_true=y_test, y_pred=predicted_y)\n",
    "\n",
    "# After the prediction we find that r2 decreases by 0.001 "
   ]
  },
  {
   "cell_type": "code",
   "execution_count": 75,
   "id": "2632241b",
   "metadata": {
    "scrolled": true
   },
   "outputs": [
    {
     "data": {
      "text/plain": [
       "0.8480181796521953"
      ]
     },
     "execution_count": 75,
     "metadata": {},
     "output_type": "execute_result"
    }
   ],
   "source": [
    "sklearn.metrics.explained_variance_score(y_true=y_test, y_pred=predicted_y)"
   ]
  }
 ],
 "metadata": {
  "kernelspec": {
   "display_name": "Python 3",
   "language": "python",
   "name": "python3"
  },
  "language_info": {
   "codemirror_mode": {
    "name": "ipython",
    "version": 3
   },
   "file_extension": ".py",
   "mimetype": "text/x-python",
   "name": "python",
   "nbconvert_exporter": "python",
   "pygments_lexer": "ipython3",
   "version": "3.8.8"
  }
 },
 "nbformat": 4,
 "nbformat_minor": 5
}
