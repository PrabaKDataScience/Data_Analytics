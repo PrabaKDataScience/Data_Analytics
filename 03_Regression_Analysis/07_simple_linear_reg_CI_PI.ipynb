{
 "cells": [
  {
   "cell_type": "markdown",
   "id": "cfa3ee69",
   "metadata": {},
   "source": [
    "CI - We do it for knowing the mean value of dependent variable for the given IND VAR\n",
    "PI - We do it for knowing the individual value of the DEP VAR for the given IND VAR \n"
   ]
  },
  {
   "cell_type": "markdown",
   "id": "ab16d7e1",
   "metadata": {},
   "source": [
    "#### Confidence interval pertains to a statistic estimated from multiple values. It expresses sampling uncertainty."
   ]
  },
  {
   "cell_type": "markdown",
   "id": "744df469",
   "metadata": {},
   "source": [
    "#### Prediction interval expresses inherent uncertainty in the particular data point on top of the sampling uncertainty. Is it thus wider than the confidence interval."
   ]
  },
  {
   "cell_type": "markdown",
   "id": "e4114dd8",
   "metadata": {},
   "source": [
    "For More : https://towardsdatascience.com/confidence-intervals-vs-prediction-intervals-7b296ae58745"
   ]
  }
 ],
 "metadata": {
  "kernelspec": {
   "display_name": "Python 3",
   "language": "python",
   "name": "python3"
  },
  "language_info": {
   "codemirror_mode": {
    "name": "ipython",
    "version": 3
   },
   "file_extension": ".py",
   "mimetype": "text/x-python",
   "name": "python",
   "nbconvert_exporter": "python",
   "pygments_lexer": "ipython3",
   "version": "3.8.8"
  }
 },
 "nbformat": 4,
 "nbformat_minor": 5
}
