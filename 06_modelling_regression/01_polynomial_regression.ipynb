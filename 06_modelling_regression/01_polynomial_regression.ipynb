{
 "cells": [
  {
   "cell_type": "markdown",
   "id": "fd38b325",
   "metadata": {},
   "source": [
    "https://www.statology.org/polynomial-regression-python/   <br>\n",
    "\n",
    "https://towardsdatascience.com/polynomial-regression-bbe8b9d97491 \n",
    "\n",
    "Or Refer the pdf in this folder "
   ]
  },
  {
   "cell_type": "code",
   "execution_count": 2,
   "id": "99745744",
   "metadata": {},
   "outputs": [],
   "source": [
    "# The relationship between independent variables (Predictors) and Depenent varible is not linear , \n",
    "# we should go for polynomial regression \n",
    "\n",
    "# Sometimes , the relationship may look to be linear but the residual vs predicted value \n",
    "# will not match with the rule of linearity  (Refer IIT Roorkee video 44 - Data anlytics with python)\n",
    "# https://youtu.be/3nO8opURG14?list=PLLy_2iUCG87CNafffzNZPVa9rW-QmOmEv\n",
    "# In this case also we should go for polynomial regression \n"
   ]
  },
  {
   "cell_type": "code",
   "execution_count": 7,
   "id": "9a62f595",
   "metadata": {
    "scrolled": false
   },
   "outputs": [
    {
     "data": {
      "image/png": "[encoded data removed]",
      "text/plain": [
       "<Figure size 432x288 with 1 Axes>"
      ]
     },
     "metadata": {
      "needs_background": "light"
     },
     "output_type": "display_data"
    }
   ],
   "source": [
    "# Example problem -1 \n",
    "\n",
    "import matplotlib.pyplot as plt\n",
    "\n",
    "x = [2, 3, 4, 5, 6, 7, 7, 8, 9, 11, 12]\n",
    "y = [18, 16, 15, 17, 20, 23, 25, 28, 31, 30, 29]\n",
    "\n",
    "plt.scatter(x,y)\n",
    "plt.show()\n",
    "\n",
    "\n"
   ]
  },
  {
   "cell_type": "markdown",
   "id": "7841774f",
   "metadata": {},
   "source": [
    "### The relationship between x and y is cubic . (It matches with y=x^3 equation)\n",
    "\n",
    "##### We should go for polynomial regression"
   ]
  },
  {
   "cell_type": "code",
   "execution_count": 8,
   "id": "8b5541d2",
   "metadata": {
    "scrolled": true
   },
   "outputs": [
    {
     "data": {
      "image/png": "[encoded data removed]",
      "text/plain": [
       "<Figure size 432x288 with 1 Axes>"
      ]
     },
     "metadata": {
      "needs_background": "light"
     },
     "output_type": "display_data"
    }
   ],
   "source": [
    "import numpy as np\n",
    "\n",
    "#polynomial fit with degree = 3  since we see y=x^3\n",
    "model = np.poly1d(np.polyfit(x, y, 3))\n",
    "\n",
    "#add fitted polynomial line to scatterplot\n",
    "polyline = np.linspace(1, 12, 50)\n",
    "plt.scatter(x, y)\n",
    "plt.plot(polyline, model(polyline))\n",
    "plt.show()"
   ]
  },
  {
   "cell_type": "code",
   "execution_count": 9,
   "id": "8ea7f62d",
   "metadata": {
    "scrolled": true
   },
   "outputs": [
    {
     "name": "stdout",
     "output_type": "stream",
     "text": [
      "         3         2\n",
      "-0.1089 x + 2.256 x - 11.84 x + 33.63\n"
     ]
    }
   ],
   "source": [
    "print(model)"
   ]
  },
  {
   "cell_type": "code",
   "execution_count": 11,
   "id": "8e860205",
   "metadata": {},
   "outputs": [],
   "source": [
    "# Estimated Reg Equation y=33.63-(11.84*x )+(2.256 *x**2)-(0.189*x**3)"
   ]
  },
  {
   "cell_type": "code",
   "execution_count": 13,
   "id": "ee13bec8",
   "metadata": {},
   "outputs": [
    {
     "data": {
      "text/plain": [
       "{'r_squared': 0.9841113454244934}"
      ]
     },
     "execution_count": 13,
     "metadata": {},
     "output_type": "execute_result"
    }
   ],
   "source": [
    "# Get R squared \n",
    "\n",
    "import numpy\n",
    "#define function to calculate r-squared\n",
    "def polyfit(x, y, degree):\n",
    "    results = {}\n",
    "    coeffs = numpy.polyfit(x, y, degree)\n",
    "    p = numpy.poly1d(coeffs)\n",
    "    #calculate r-squared\n",
    "    yhat = p(x)\n",
    "    ybar = numpy.sum(y)/len(y)\n",
    "    ssreg = numpy.sum((yhat-ybar)**2)\n",
    "    sstot = numpy.sum((y - ybar)**2)\n",
    "    results['r_squared'] = ssreg / sstot\n",
    "\n",
    "    return results\n",
    "\n",
    "#find r-squared of polynomial model with degree = 3\n",
    "polyfit(x, y, 3)\n"
   ]
  },
  {
   "cell_type": "code",
   "execution_count": 14,
   "id": "642f339d",
   "metadata": {},
   "outputs": [],
   "source": [
    "# The current model has the cappability to explain the 98.4 percent variance in the data . \n",
    "\n",
    "# Good model "
   ]
  }
 ],
 "metadata": {
  "kernelspec": {
   "display_name": "Python 3",
   "language": "python",
   "name": "python3"
  },
  "language_info": {
   "codemirror_mode": {
    "name": "ipython",
    "version": 3
   },
   "file_extension": ".py",
   "mimetype": "text/x-python",
   "name": "python",
   "nbconvert_exporter": "python",
   "pygments_lexer": "ipython3",
   "version": "3.8.8"
  }
 },
 "nbformat": 4,
 "nbformat_minor": 5
}
